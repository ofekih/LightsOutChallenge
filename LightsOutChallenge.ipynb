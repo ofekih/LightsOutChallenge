{
  "nbformat": 4,
  "nbformat_minor": 0,
  "metadata": {
    "colab": {
      "name": "LightsOutChallenge.ipynb",
      "provenance": [],
      "collapsed_sections": [],
      "authorship_tag": "ABX9TyNauYsyY+NfITSJuAMo4lK+",
      "include_colab_link": true
    },
    "kernelspec": {
      "name": "python3",
      "display_name": "Python 3"
    }
  },
  "cells": [
    {
      "cell_type": "markdown",
      "metadata": {
        "id": "view-in-github",
        "colab_type": "text"
      },
      "source": [
        "<a href=\"https://colab.research.google.com/github/ofekih/LightsOutChallenge/blob/main/LightsOutChallenge.ipynb\" target=\"_parent\"><img src=\"https://colab.research.google.com/assets/colab-badge.svg\" alt=\"Open In Colab\"/></a>"
      ]
    },
    {
      "cell_type": "code",
      "metadata": {
        "id": "dpbj6drdb0gf",
        "colab": {
          "base_uri": "https://localhost:8080/"
        },
        "outputId": "4f74ca15-cd6d-4c74-fbb9-fccf251ca5c3"
      },
      "source": [
        "!git clone https://github.com/ofekih/LightsOutChallenge.git\n",
        "!rm -r .git/ LightsOutChallenge/LightsOutChallenge.ipynb\n",
        "!mv LightsOutChallenge/* LightsOutChallenge/.??* .\n",
        "!rmdir LightsOutChallenge/"
      ],
      "execution_count": 23,
      "outputs": [
        {
          "output_type": "stream",
          "text": [
            "Cloning into 'LightsOutChallenge'...\n",
            "remote: Enumerating objects: 14, done.\u001b[K\n",
            "remote: Counting objects: 100% (14/14), done.\u001b[K\n",
            "remote: Compressing objects: 100% (12/12), done.\u001b[K\n",
            "remote: Total 14 (delta 4), reused 0 (delta 0), pack-reused 0\u001b[K\n",
            "Unpacking objects: 100% (14/14), done.\n"
          ],
          "name": "stdout"
        }
      ]
    },
    {
      "cell_type": "code",
      "metadata": {
        "colab": {
          "base_uri": "https://localhost:8080/"
        },
        "id": "q3rRLXkVcUti",
        "outputId": "c93d3887-9b8f-40a8-8bf5-5c5ef91b519d"
      },
      "source": [
        "!cat README.md"
      ],
      "execution_count": 24,
      "outputs": [
        {
          "output_type": "stream",
          "text": [
            "# LightsOutChallenge\n",
            "CS169 Group Project\n"
          ],
          "name": "stdout"
        }
      ]
    },
    {
      "cell_type": "markdown",
      "metadata": {
        "id": "iTBU-s7RbJMT"
      },
      "source": [
        "This will do $5+2$"
      ]
    },
    {
      "cell_type": "code",
      "metadata": {
        "colab": {
          "base_uri": "https://localhost:8080/"
        },
        "id": "zEXfUeMFatNP",
        "outputId": "de3a2190-4216-4577-9130-c53a41e1073f"
      },
      "source": [
        "with open('README.md', 'r') as file:\n",
        "    print(file.readlines())"
      ],
      "execution_count": 28,
      "outputs": [
        {
          "output_type": "stream",
          "text": [
            "['# LightsOutChallenge\\n', 'CS169 Group Project\\n']\n"
          ],
          "name": "stdout"
        }
      ]
    }
  ]
}